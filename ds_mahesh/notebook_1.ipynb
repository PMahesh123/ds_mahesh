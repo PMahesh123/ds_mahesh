# %% [markdown]
# # Web3 Trading Analysis: Trader Behavior vs Market Sentiment
# **Analysis of Hyperliquid trader data vs Bitcoin Fear/Greed Index**

# %% [markdown]
# ## 1. Setup & Data Loading
# %%
!pip install seaborn scipy -q
import pandas as pd
import numpy as np
import matplotlib.pyplot as plt
import seaborn as sns
from scipy import stats
from datetime import datetime
from google.colab import drive

# Mount Google Drive
drive.mount('/content/drive')

# %%
# Load datasets (replace with your paths)
trades_path = '/content/drive/MyDrive/ds_candidate_name/csv_files/historical_trades.csv'
sentiment_path = '/content/drive/MyDrive/ds_candidate_name/csv_files/fear_greed.csv'

trades_df = pd.read_csv(trades_path)
sentiment_df = pd.read_csv(sentiment_path)

# %% [markdown]
# ## 2. Data Cleaning
# %%
# Convert to datetime and extract dates
trades_df['time'] = pd.to_datetime(trades_df['time'])
trades_df['date'] = trades_df['time'].dt.date

sentiment_df['Date'] = pd.to_datetime(sentiment_df['Date'])

# Map sentiment to numerical values
sentiment_map = {'Fear': 0, 'Greed': 1}
sentiment_df['sentiment_score'] = sentiment_df['Classification'].map(sentiment_map)

# Handle missing values
trades_df['closedPnL'] = trades_df['closedPnL'].fillna(0)
trades_df['leverage'] = trades_df['leverage'].fillna(1)  # Assume 1x if missing

# %% [markdown]
# ## 3. Feature Engineering
# %%
# Daily trader metrics
daily_metrics = trades_df.groupby('date').agg({
    'closedPnL': ['mean', 'sum', 'count'],
    'leverage': 'mean',
    'account': 'nunique',
    'size': 'sum'
}).reset_index()

daily_metrics.columns = [
    'date', 'avg_pnl', 'total_pnl', 'trade_count', 
    'avg_leverage', 'unique_traders', 'total_volume'
]

# Merge with sentiment data
merged_df = pd.merge(
    daily_metrics, 
    sentiment_df, 
    left_on='date', 
    right_on='Date', 
    how='left'
)

# Add binary profit flag
merged_df['profitable'] = merged_df['avg_pnl'] > 0

# %% [markdown]
# ## 4. Analysis & Visualization
# %%
# Plot 1: Sentiment Trend
plt.figure(figsize=(14, 6))
sns.lineplot(data=sentiment_df, x='Date', y='sentiment_score', 
             hue='Classification', palette={'Fear': 'red', 'Greed': 'green'})
plt.title('Bitcoin Fear & Greed Index Over Time', fontsize=14)
plt.ylabel('Sentiment Score (0=Fear, 1=Greed)')
plt.savefig('/content/drive/MyDrive/ds_candidate_name/outputs/sentiment_trend.png', 
            bbox_inches='tight', dpi=300)
plt.show()

# %%
# Plot 2: PnL Distribution by Sentiment
plt.figure(figsize=(12, 6))
sns.boxplot(data=merged_df, x='Classification', y='avg_pnl',
            palette={'Fear': 'red', 'Greed': 'green'})
plt.title('Distribution of Daily Average PnL by Market Sentiment', fontsize=14)
plt.ylabel('Average PnL (USD)')
plt.savefig('/content/drive/MyDrive/ds_candidate_name/outputs/pnl_vs_sentiment.png', 
            bbox_inches='tight', dpi=300)
plt.show()

# %%
# Plot 3: Leverage vs Sentiment
plt.figure(figsize=(12, 6))
sns.barplot(data=merged_df, x='Classification', y='avg_leverage',
            palette={'Fear': 'red', 'Greed': 'green'}, ci=95)
plt.title('Average Leverage by Market Sentiment', fontsize=14)
plt.ylabel('Average Leverage (x)')
plt.savefig('/content/drive/MyDrive/ds_candidate_name/outputs/leverage_distribution.png', 
            bbox_inches='tight', dpi=300)
plt.show()

# %% [markdown]
# ## 5. Statistical Analysis
# %%
# T-test for PnL difference
fear_pnl = merged_df[merged_df['Classification'] == 'Fear']['avg_pnl'].dropna()
greed_pnl = merged_df[merged_df['Classification'] == 'Greed']['avg_pnl'].dropna()

t_stat, p_val = stats.ttest_ind(fear_pnl, greed_pnl)
print(f"PNL T-test:\n t-statistic = {t_stat:.3f}\n p-value = {p_val:.4f}")

# Chi-square test for profitability
contingency = pd.crosstab(merged_df['Classification'], merged_df['profitable'])
chi2, p_chi, _, _ = stats.chi2_contingency(contingency)
print(f"\nProfitability Chi-square:\n chi2 = {chi2:.3f}\n p-value = {p_chi:.4f}")

# %% [markdown]
# ## 6. Key Metrics Table
# %%
key_metrics = merged_df.groupby('Classification').agg({
    'avg_pnl': 'mean',
    'trade_count': 'sum',
    'avg_leverage': 'mean',
    'unique_traders': 'mean',
    'total_volume': 'sum'
}).round(2)

print("\nKey Performance Metrics by Sentiment:")
display(key_metrics)